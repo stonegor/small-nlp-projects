{
 "cells": [
  {
   "cell_type": "markdown",
   "source": [
    "**Анализ тональности при помощи BERT на примере imdb датасета**"
   ],
   "metadata": {
    "collapsed": false
   }
  },
  {
   "cell_type": "markdown",
   "source": [
    "Определим ф-ии предобработки и загрузки текста"
   ],
   "metadata": {
    "collapsed": false
   }
  },
  {
   "cell_type": "code",
   "execution_count": 1,
   "outputs": [],
   "source": [
    "import torch"
   ],
   "metadata": {
    "collapsed": false
   }
  },
  {
   "cell_type": "code",
   "execution_count": 2,
   "outputs": [
    {
     "name": "stderr",
     "output_type": "stream",
     "text": [
      "Found cached dataset imdb (C:/Users/St0negor/.cache/huggingface/datasets/imdb/plain_text/1.0.0/d613c88cf8fa3bab83b4ded3713f1f74830d1100e171db75bbddb80b3345c9c0)\n"
     ]
    },
    {
     "data": {
      "text/plain": "  0%|          | 0/3 [00:00<?, ?it/s]",
      "application/vnd.jupyter.widget-view+json": {
       "version_major": 2,
       "version_minor": 0,
       "model_id": "205cef0094c74de386d3568b3fadb5c9"
      }
     },
     "metadata": {},
     "output_type": "display_data"
    }
   ],
   "source": [
    "from datasets import load_dataset\n",
    "dataset = load_dataset(\"imdb\")"
   ],
   "metadata": {
    "collapsed": false
   }
  },
  {
   "cell_type": "code",
   "execution_count": 3,
   "outputs": [],
   "source": [
    "from torch.utils.data import Dataset, DataLoader\n",
    "import string\n",
    "def preprocess(doc):\n",
    "    if type(doc) == str:\n",
    "        doc = doc.lower()\n",
    "        for p in string.punctuation + string.whitespace + 'http':\n",
    "            doc = doc.replace(p, ' ')\n",
    "        for p in ['«', '»', '\\'', '\\\"']:\n",
    "            doc = doc.replace(p, ' ')\n",
    "        doc = doc.strip()\n",
    "        doc = ' '.join([w for w in doc.split(' ') if w != ''])\n",
    "    return doc"
   ],
   "metadata": {
    "collapsed": false
   }
  },
  {
   "cell_type": "code",
   "execution_count": 4,
   "outputs": [],
   "source": [
    "class IMDB(Dataset):\n",
    "    def __init__(self, dataset, kind = 'train'):\n",
    "        self.dataset = dataset\n",
    "        self.kind = kind\n",
    "    def __len__(self):\n",
    "        return len(self.dataset[self.kind])\n",
    "    def __getitem__(self, index):\n",
    "        return (preprocess(dataset[self.kind]['text'][index]), dataset[self.kind]['label'][index])"
   ],
   "metadata": {
    "collapsed": false
   }
  },
  {
   "cell_type": "code",
   "execution_count": 5,
   "outputs": [
    {
     "name": "stderr",
     "output_type": "stream",
     "text": [
      "Using cache found in C:\\Users\\St0negor/.cache\\torch\\hub\\huggingface_pytorch-transformers_main\n"
     ]
    }
   ],
   "source": [
    "tokenizer = torch.hub.load('huggingface/pytorch-transformers', 'tokenizer', 'bert-base-uncased')\n",
    "def collate_fn(batch):\n",
    "    X = [e[0] for e in batch]\n",
    "    y = [e[1] for e in batch]\n",
    "\n",
    "    padded_sequences = tokenizer(X, add_special_tokens=True, padding='longest', truncation=True,max_length=256)\n",
    "\n",
    "    tokens_tensor = torch.tensor(padded_sequences[\"input_ids\"])\n",
    "    attention_mask = torch.tensor(padded_sequences[\"attention_mask\"])\n",
    "    token_type_ids = torch.tensor(padded_sequences[\"token_type_ids\"])\n",
    "\n",
    "    labels_tensor = torch.tensor(y, dtype=torch.float)\n",
    "\n",
    "    return (tokens_tensor, attention_mask, token_type_ids, labels_tensor)"
   ],
   "metadata": {
    "collapsed": false
   }
  },
  {
   "cell_type": "markdown",
   "source": [
    "Определим BERT Модель с линейным слоем в конце"
   ],
   "metadata": {
    "collapsed": false
   }
  },
  {
   "cell_type": "code",
   "execution_count": 6,
   "outputs": [],
   "source": [
    "import transformers"
   ],
   "metadata": {
    "collapsed": false
   }
  },
  {
   "cell_type": "code",
   "execution_count": 7,
   "outputs": [],
   "source": [
    "class BERTClass(torch.nn.Module):\n",
    "    def __init__(self):\n",
    "        super(BERTClass, self).__init__()\n",
    "        self.bert_model = transformers.BertModel.from_pretrained('bert-base-uncased')\n",
    "        self.dropout = torch.nn.Dropout(0.3)\n",
    "        self.linear = torch.nn.Linear(768, 1)\n",
    "\n",
    "        for param in self.bert_model.parameters(): # Дообучаем модель поэтому градиенты для bert_model не рассчитываем\n",
    "            param.requires_grad = False\n",
    "\n",
    "    def forward(self, ids, mask, token_type_ids):\n",
    "        _, output= self.bert_model(ids, attention_mask = mask, token_type_ids = token_type_ids, return_dict=False)\n",
    "        output = self.dropout(output)\n",
    "        output = self.linear(output)\n",
    "        return output"
   ],
   "metadata": {
    "collapsed": false
   }
  },
  {
   "cell_type": "markdown",
   "source": [
    "Функции тренировки и оценки модели"
   ],
   "metadata": {
    "collapsed": false
   }
  },
  {
   "cell_type": "code",
   "execution_count": 8,
   "outputs": [],
   "source": [
    "import numpy as np\n",
    "from tqdm.autonotebook import tqdm\n",
    "\n",
    "from transformers import logging\n",
    "logging.set_verbosity_warning()\n",
    "\n",
    "\n",
    "def train_model(model, criterion, optimizer, epochs, train_loader,device):\n",
    "    for epoch in tqdm(range(epochs), total=epochs):\n",
    "        for i, data in tqdm(enumerate(train_loader), total=len(train_loader)):\n",
    "\n",
    "            model.train()\n",
    "\n",
    "            tokens, attention_mask, token_type_ids, labels = data\n",
    "\n",
    "            tokens = tokens.to(device)\n",
    "            attention_mask = attention_mask.to(device)\n",
    "            token_type_ids = token_type_ids.to(device)\n",
    "            labels = labels.to(device)\n",
    "\n",
    "            y_pred = model(tokens, attention_mask, token_type_ids)\n",
    "            loss = criterion(y_pred, labels.view(-1, 1))\n",
    "\n",
    "            loss.backward()\n",
    "            optimizer.step()\n",
    "            optimizer.zero_grad()\n",
    "\n",
    "            if i%5 == 0:\n",
    "                model.eval()\n",
    "                print(f'loss = {loss}')\n",
    "\n",
    "\n",
    "    print(f'Done training after {epochs} epochs. Starting evaluation...')\n",
    "    model.eval()"
   ],
   "metadata": {
    "collapsed": false
   }
  },
  {
   "cell_type": "code",
   "execution_count": 9,
   "outputs": [],
   "source": [
    "from sklearn.metrics import accuracy_score\n",
    "from sklearn.metrics import confusion_matrix\n",
    "import seaborn as sns\n",
    "def eval_model(model, criterion, test_loader, device, n = 100):\n",
    "    model.eval()\n",
    "    losses = []\n",
    "    accs = []\n",
    "    cf_matrix = np.zeros((2,2))\n",
    "    with torch.no_grad():\n",
    "        for i, data in tqdm(enumerate(test_loader), total=n):\n",
    "            tokens, attention_mask, token_type_ids, labels = data\n",
    "\n",
    "            tokens = tokens.to(device)\n",
    "            attention_mask = attention_mask.to(device)\n",
    "            token_type_ids = token_type_ids.to(device)\n",
    "            labels = labels.to(device)\n",
    "\n",
    "            y_pred = model(tokens, attention_mask, token_type_ids)\n",
    "            loss = criterion(y_pred, labels.view(-1, 1))\n",
    "            acc = accuracy_score(np.round(torch.sigmoid(y_pred).cpu()), labels.cpu())\n",
    "            cf_matrix += confusion_matrix(np.round(torch.sigmoid(y_pred).cpu()), labels.cpu())\n",
    "            losses.append(loss.cpu())\n",
    "            accs.append(acc)\n",
    "\n",
    "            if(i>=n):\n",
    "                break\n",
    "\n",
    "        print(f'loss = {np.average(losses)}; accuracy = {np.average(accs)}')\n",
    "        labels = [\"True Neg\",\"False Pos\",\"False Neg\",\"True Pos\"]\n",
    "        labels = np.asarray(labels).reshape(2,2)\n",
    "        sns.heatmap(cf_matrix, annot=labels, fmt=\"\", cmap='BuPu')"
   ],
   "metadata": {
    "collapsed": false
   }
  },
  {
   "cell_type": "markdown",
   "source": [
    "Построим базовую модель"
   ],
   "metadata": {
    "collapsed": false
   }
  },
  {
   "cell_type": "code",
   "execution_count": 10,
   "outputs": [
    {
     "name": "stderr",
     "output_type": "stream",
     "text": [
      "Some weights of the model checkpoint at bert-base-uncased were not used when initializing BertModel: ['cls.predictions.transform.LayerNorm.weight', 'cls.predictions.transform.LayerNorm.bias', 'cls.seq_relationship.weight', 'cls.predictions.bias', 'cls.predictions.transform.dense.weight', 'cls.predictions.transform.dense.bias', 'cls.predictions.decoder.weight', 'cls.seq_relationship.bias']\n",
      "- This IS expected if you are initializing BertModel from the checkpoint of a model trained on another task or with another architecture (e.g. initializing a BertForSequenceClassification model from a BertForPreTraining model).\n",
      "- This IS NOT expected if you are initializing BertModel from the checkpoint of a model that you expect to be exactly identical (initializing a BertForSequenceClassification model from a BertForSequenceClassification model).\n"
     ]
    },
    {
     "data": {
      "text/plain": "  0%|          | 0/1 [00:00<?, ?it/s]",
      "application/vnd.jupyter.widget-view+json": {
       "version_major": 2,
       "version_minor": 0,
       "model_id": "43e800438c724c568ce90609c7b60585"
      }
     },
     "metadata": {},
     "output_type": "display_data"
    },
    {
     "data": {
      "text/plain": "  0%|          | 0/98 [00:00<?, ?it/s]",
      "application/vnd.jupyter.widget-view+json": {
       "version_major": 2,
       "version_minor": 0,
       "model_id": "b886d9d3f8fa4ab1ae86e01b944e368a"
      }
     },
     "metadata": {},
     "output_type": "display_data"
    },
    {
     "name": "stdout",
     "output_type": "stream",
     "text": [
      "loss = 0.7060690522193909\n",
      "loss = 0.8057683706283569\n",
      "loss = 0.7004907131195068\n",
      "loss = 0.6865096092224121\n",
      "loss = 0.7355697154998779\n",
      "loss = 0.6963051557540894\n",
      "loss = 0.7103497982025146\n",
      "loss = 0.6596292853355408\n",
      "loss = 0.6568715572357178\n",
      "loss = 0.6602694392204285\n",
      "loss = 0.6836937665939331\n",
      "loss = 0.6743828058242798\n",
      "loss = 0.6816708445549011\n",
      "loss = 0.6969175338745117\n",
      "loss = 0.6622278094291687\n",
      "loss = 0.6499059200286865\n",
      "loss = 0.6629077196121216\n",
      "loss = 0.6389871835708618\n",
      "loss = 0.6727259159088135\n",
      "loss = 0.6621420383453369\n",
      "Done training after 1 epochs. Starting evaluation...\n"
     ]
    },
    {
     "data": {
      "text/plain": "  0%|          | 0/100 [00:00<?, ?it/s]",
      "application/vnd.jupyter.widget-view+json": {
       "version_major": 2,
       "version_minor": 0,
       "model_id": "0d898a4c4b734c54bb4f2344a288844f"
      }
     },
     "metadata": {},
     "output_type": "display_data"
    },
    {
     "name": "stdout",
     "output_type": "stream",
     "text": [
      "loss = 0.6363186240196228; accuracy = 0.6831683168316832\n",
      "Wall time: 18min 34s\n"
     ]
    },
    {
     "data": {
      "text/plain": "<Figure size 640x480 with 2 Axes>",
      "image/png": "[encoded data removed]"
     },
     "metadata": {},
     "output_type": "display_data"
    }
   ],
   "source": [
    "%%time\n",
    "device = torch.device('cuda' if torch.cuda.is_available() else 'cpu')\n",
    "\n",
    "optimus_prime = BERTClass()\n",
    "optimus_prime.to(device)\n",
    "\n",
    "learning_rate = 0.01\n",
    "batch_size = 256\n",
    "epochs = 1\n",
    "criterion = torch.nn.BCEWithLogitsLoss()\n",
    "optimizer = torch.optim.Adam(optimus_prime.parameters(), lr=learning_rate)\n",
    "\n",
    "train_set = IMDB(dataset,'train')\n",
    "test_set = IMDB(dataset,'test')\n",
    "train_loader = DataLoader(dataset=train_set,batch_size=batch_size,shuffle=True, collate_fn=collate_fn)\n",
    "test_loader = DataLoader(dataset=test_set,batch_size=4,shuffle=True, collate_fn=collate_fn)\n",
    "\n",
    "train_model(optimus_prime, criterion,optimizer, epochs, train_loader, device)\n",
    "torch.cuda.empty_cache()\n",
    "del train_loader\n",
    "eval_model(optimus_prime, criterion, test_loader, device)\n",
    "del optimus_prime\n",
    "torch.cuda.empty_cache()"
   ],
   "metadata": {
    "collapsed": false
   }
  },
  {
   "cell_type": "markdown",
   "source": [
    "не хватило времени :(\n",
    "\n",
    "Что бы я попробовал сделать для улучшения качества модели:\n",
    "\n",
    "1) Увеличение кол-ва эпох\n",
    "2) Регуляризация\n",
    "3) Различные параметры lr_scheduler\n",
    "4) Увеличить количество линейных слоев после BertModel"
   ],
   "metadata": {
    "collapsed": false
   }
  }
 ],
 "metadata": {
  "kernelspec": {
   "display_name": "Python 3",
   "language": "python",
   "name": "python3"
  },
  "language_info": {
   "codemirror_mode": {
    "name": "ipython",
    "version": 2
   },
   "file_extension": ".py",
   "mimetype": "text/x-python",
   "name": "python",
   "nbconvert_exporter": "python",
   "pygments_lexer": "ipython2",
   "version": "2.7.6"
  }
 },
 "nbformat": 4,
 "nbformat_minor": 0
}
